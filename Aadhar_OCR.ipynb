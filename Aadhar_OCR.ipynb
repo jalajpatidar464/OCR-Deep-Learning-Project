{
  "cells": [
    {
      "cell_type": "markdown",
      "metadata": {
        "id": "5fCEDCU_qrC0"
      },
      "source": [
        "<p><img alt=\"Colaboratory logo\" height=\"45px\" src=\"/img/colab_favicon.ico\" align=\"left\" hspace=\"10px\" vspace=\"0px\"></p>\n",
        "\n",
        "<h1>What is Colaboratory?</h1>\n",
        "\n",
        "Colaboratory, or 'Colab' for short, allows you to write and execute Python in your browser, with \n",
        "- Zero configuration required\n",
        "- Free access to GPUs\n",
        "- Easy sharing\n",
        "\n",
        "Whether you're a <strong>student</strong>, a <strong>data scientist</strong> or an <strong>AI researcher</strong>, Colab can make your work easier. Watch <a href=\"https://www.youtube.com/watch?v=inN8seMm7UI\">Introduction to Colab</a> to find out more, or just get started below!"
      ]
    },
    {
      "cell_type": "code",
      "source": [
        "from google.colab import drive\n",
        "drive.mount('/content/gdrive')"
      ],
      "metadata": {
        "id": "mMMCePCVDt5R"
      },
      "execution_count": null,
      "outputs": []
    },
    {
      "cell_type": "code",
      "source": [
        "!sudo apt install tesseract-ocr"
      ],
      "metadata": {
        "id": "l_kD7vKtD55b"
      },
      "execution_count": null,
      "outputs": []
    },
    {
      "cell_type": "code",
      "source": [
        "pip install pytesseract"
      ],
      "metadata": {
        "id": "84HWri0UD8F1"
      },
      "execution_count": null,
      "outputs": []
    },
    {
      "cell_type": "code",
      "source": [
        "!pwd"
      ],
      "metadata": {
        "id": "qpkap706D_9q"
      },
      "execution_count": null,
      "outputs": []
    },
    {
      "cell_type": "code",
      "source": [
        "%cd /content/gdrive/MyDrive/Aadhar/OCR-e-adhaar"
      ],
      "metadata": {
        "id": "x-5u6wBhEE2_"
      },
      "execution_count": null,
      "outputs": []
    },
    {
      "cell_type": "code",
      "source": [
        "!pwd"
      ],
      "metadata": {
        "id": "FWtVzX7LEHUC"
      },
      "execution_count": null,
      "outputs": []
    },
    {
      "cell_type": "code",
      "source": [
        "!git clone https://github.com/xinntao/ESRGAN.git"
      ],
      "metadata": {
        "id": "SzY3uVXPEKpG"
      },
      "execution_count": null,
      "outputs": []
    },
    {
      "cell_type": "code",
      "source": [
        "%cd ESRGAN"
      ],
      "metadata": {
        "id": "V7ycADxqELXu"
      },
      "execution_count": null,
      "outputs": []
    },
    {
      "cell_type": "code",
      "source": [
        "!pip3 install torch==1.2.0+cu92 torchvision==0.4.0+cu92 -f https://download.pytorch.org/whl/torch_stable.html"
      ],
      "metadata": {
        "id": "Jb_V_H-yENYK"
      },
      "execution_count": null,
      "outputs": []
    },
    {
      "cell_type": "code",
      "source": [
        "!python test.py"
      ],
      "metadata": {
        "id": "8X7l76cqEPYi"
      },
      "execution_count": null,
      "outputs": []
    },
    {
      "cell_type": "code",
      "source": [
        "%cd .."
      ],
      "metadata": {
        "id": "sVk_5_xGESEq"
      },
      "execution_count": null,
      "outputs": []
    },
    {
      "cell_type": "code",
      "source": [
        "import pytesseract\n",
        "from pytesseract import Output\n",
        "import cv2\n",
        "from google.colab.patches import cv2_imshow\n",
        "import numpy as np\n",
        "import matplotlib.pyplot as plt\n",
        "%matplotlib inline\n",
        "import re\n",
        "import os\n",
        "import imutils\n",
        "import glob"
      ],
      "metadata": {
        "id": "EUA481zpEUNk"
      },
      "execution_count": null,
      "outputs": []
    },
    {
      "cell_type": "code",
      "source": [
        "def regex(text):\n",
        "  uid = set()\n",
        "  newlist = []\n",
        "  print(text)\n",
        "  for xx in text.split('\\n'):\n",
        "    newlist.append(xx)\n",
        "  newlist = list(filter(lambda x: len(x) > 12, newlist))\n",
        "  for no in newlist:\n",
        "    if re.match(\"^[0-9 ]+$\", no):\n",
        "      uid.add(no)\n",
        "  if(len(list(uid))>=1):\n",
        "    # Validating using Verhoeff algorithm\n",
        "    if(validate(list(uid)[0])):\n",
        "      print(list(uid)[0])\n",
        "      print('\\n')\n",
        "      return 1\n",
        "    else:\n",
        "      print('Invalid Aadhar no.')\n",
        "      print('\\n')\n",
        "      return None\n",
        "  else:\n",
        "    return None\n",
        "\n",
        "# Sharpen the image\n",
        "def sharp(img):\n",
        "  kernel = np.array([[0, -1, 0], [-1, 5,-1], [0, -1, 0]])\n",
        "  img = cv2.filter2D(img, -1, kernel)\n",
        "  return img\n",
        "\n",
        "# To validate aadhaar Num\n",
        "def validate(aadhaarNum):\n",
        "\n",
        "        aadhaarNum = aadhaarNum.split(\" \")\n",
        "        y = \"\"\n",
        "        for i in aadhaarNum:\n",
        "          y = y + i\n",
        "\n",
        "        mult = [[0, 1, 2, 3, 4, 5, 6, 7, 8, 9], [1, 2, 3, 4, 0, 6, 7, 8, 9, 5], [2, 3, 4, 0, 1, 7, 8, 9, 5, 6],\n",
        "            [3, 4, 0, 1, 2, 8, 9, 5, 6, 7], [4, 0, 1, 2, 3, 9, 5, 6, 7, 8], [5, 9, 8, 7, 6, 0, 4, 3, 2, 1],\n",
        "            [6, 5, 9, 8, 7, 1, 0, 4, 3, 2], [7, 6, 5, 9, 8, 2, 1, 0, 4, 3], [8, 7, 6, 5, 9, 3, 2, 1, 0, 4],\n",
        "            [9, 8, 7, 6, 5, 4, 3, 2, 1, 0]]\n",
        "\n",
        "        perm = [[0, 1, 2, 3, 4, 5, 6, 7, 8, 9], [1, 5, 7, 6, 2, 8, 3, 0, 9, 4], [5, 8, 0, 3, 7, 9, 6, 1, 4, 2],\n",
        "            [8, 9, 1, 6, 0, 4, 3, 5, 2, 7], [9, 4, 5, 3, 1, 2, 6, 8, 7, 0], [4, 2, 8, 6, 5, 7, 3, 9, 0, 1],\n",
        "            [2, 7, 9, 3, 8, 0, 6, 4, 1, 5], [7, 0, 4, 6, 9, 1, 3, 2, 5, 8]]\n",
        "\n",
        "\n",
        "        try:\n",
        "            i = len(y)\n",
        "            j = 0\n",
        "            x = 0\n",
        "\n",
        "            while i > 0:\n",
        "                i -= 1\n",
        "                x = mult[x][perm[(j % 8)][int(y[i])]]\n",
        "                j += 1\n",
        "            if x == 0:\n",
        "                return 1 \n",
        "            else:\n",
        "                return 0 \n",
        "\n",
        "        except ValueError:\n",
        "            return 0 \n",
        "        except IndexError:\n",
        "            return 0 "
      ],
      "metadata": {
        "id": "OLrwbF03EWvA"
      },
      "execution_count": null,
      "outputs": []
    },
    {
      "cell_type": "code",
      "source": [
        "filenames = [img for img in glob.glob(\"/content/gdrive/MyDrive/Aadhar/OCR-e-adhaar/ESRGAN/LR/4-compressed.jpg\")]\n",
        "print(filenames)\n",
        "for img in filenames:\n",
        "    im = cv2.imread(img)\n",
        "    cv2_imshow(im)\n",
        "    config = ('-l eng --oem 3 --psm 11')\n",
        "    text = pytesseract.image_to_string(im, config=config)\n",
        "    if(regex(text)):\n",
        "      continue\n",
        "    else:\n",
        "      img = sharp(im)\n",
        "      text = pytesseract.image_to_string(img, config=config)\n",
        "      if(regex(text)): continue\n",
        "      im = imutils.rotate(im, 15)\n",
        "      text = pytesseract.image_to_string(im, config=config)\n",
        "      if(regex(text)):\n",
        "        continue\n",
        "      else:\n",
        "        img = sharp(im)\n",
        "        text = pytesseract.image_to_string(img, config=config)\n",
        "        if(regex(text)): continue\n",
        "        im = imutils.rotate(im, 15)\n",
        "        text = pytesseract.image_to_string(im, config=config)\n",
        "        if(regex(text)):\n",
        "          continue\n",
        "        else:\n",
        "          img = sharp(im)\n",
        "          text = pytesseract.image_to_string(img, config=config)\n",
        "          if(regex(text)): continue\n",
        "          im = imutils.rotate(im, 15)\n",
        "          text = pytesseract.image_to_string(im, config=config)\n",
        "          if(regex(text)):\n",
        "            continue\n",
        "          else:\n",
        "            img = sharp(im)\n",
        "            text = pytesseract.image_to_string(img, config=config)\n",
        "            if(regex(text)): continue\n",
        "            im = imutils.rotate(im, 15)\n",
        "            text = pytesseract.image_to_string(im, config=config)\n",
        "            if(regex(text)):\n",
        "              continue\n",
        "            else:\n",
        "              img = sharp(im)\n",
        "              text = pytesseract.image_to_string(img, config=config)\n",
        "              if(regex(text)): continue\n",
        "              im = imutils.rotate(im, 15)\n",
        "              text = pytesseract.image_to_string(im, config=config)\n",
        "              if(regex(text)):\n",
        "                continue\n",
        "              else:\n",
        "                img = sharp(im)\n",
        "                text = pytesseract.image_to_string(img, config=config)\n",
        "                if(regex(text)): continue\n",
        "                im = imutils.rotate(im, 15)\n",
        "                text = pytesseract.image_to_string(im, config=config)\n",
        "                if(regex(text)):\n",
        "                  continue\n",
        "                else:\n",
        "                  img = sharp(im)\n",
        "                  text = pytesseract.image_to_string(img, config=config)\n",
        "                  if(regex(text)): continue\n",
        "                  print('None')\n",
        "                  print('\\n')"
      ],
      "metadata": {
        "id": "3pyRof7CEZ8i"
      },
      "execution_count": null,
      "outputs": []
    },
    {
      "cell_type": "code",
      "source": [
        ""
      ],
      "metadata": {
        "id": "095ma-2dEcm7"
      },
      "execution_count": null,
      "outputs": []
    }
  ],
  "metadata": {
    "colab": {
      "collapsed_sections": [],
      "name": "Aadhar_OCR",
      "toc_visible": true,
      "provenance": []
    },
    "kernelspec": {
      "display_name": "Python 3",
      "name": "python3"
    }
  },
  "nbformat": 4,
  "nbformat_minor": 0
}